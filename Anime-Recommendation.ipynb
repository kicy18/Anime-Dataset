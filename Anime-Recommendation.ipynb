{
 "cells": [
  {
   "cell_type": "code",
   "execution_count": 1,
   "metadata": {},
   "outputs": [],
   "source": [
    "import numpy as np\n",
    "import pandas as pd"
   ]
  },
  {
   "cell_type": "code",
   "execution_count": 31,
   "metadata": {},
   "outputs": [],
   "source": [
    "animes = pd.read_csv('Anime.csv')"
   ]
  },
  {
   "cell_type": "code",
   "execution_count": 32,
   "metadata": {},
   "outputs": [
    {
     "data": {
      "text/html": [
       "<div>\n",
       "<style scoped>\n",
       "    .dataframe tbody tr th:only-of-type {\n",
       "        vertical-align: middle;\n",
       "    }\n",
       "\n",
       "    .dataframe tbody tr th {\n",
       "        vertical-align: top;\n",
       "    }\n",
       "\n",
       "    .dataframe thead th {\n",
       "        text-align: right;\n",
       "    }\n",
       "</style>\n",
       "<table border=\"1\" class=\"dataframe\">\n",
       "  <thead>\n",
       "    <tr style=\"text-align: right;\">\n",
       "      <th></th>\n",
       "      <th>Rank</th>\n",
       "      <th>Name</th>\n",
       "      <th>Japanese_name</th>\n",
       "      <th>Type</th>\n",
       "      <th>Episodes</th>\n",
       "      <th>Studio</th>\n",
       "      <th>Release_season</th>\n",
       "      <th>Tags</th>\n",
       "      <th>Rating</th>\n",
       "      <th>Release_year</th>\n",
       "      <th>End_year</th>\n",
       "      <th>Description</th>\n",
       "      <th>Content_Warning</th>\n",
       "      <th>Related_Mange</th>\n",
       "      <th>Related_anime</th>\n",
       "      <th>Voice_actors</th>\n",
       "      <th>staff</th>\n",
       "    </tr>\n",
       "  </thead>\n",
       "  <tbody>\n",
       "    <tr>\n",
       "      <th>0</th>\n",
       "      <td>1</td>\n",
       "      <td>Demon Slayer: Kimetsu no Yaiba - Entertainment...</td>\n",
       "      <td>Kimetsu no Yaiba: Yuukaku-hen</td>\n",
       "      <td>TV</td>\n",
       "      <td>NaN</td>\n",
       "      <td>ufotable</td>\n",
       "      <td>Fall</td>\n",
       "      <td>Action, Adventure, Fantasy, Shounen, Demons, H...</td>\n",
       "      <td>4.60</td>\n",
       "      <td>2021.0</td>\n",
       "      <td>NaN</td>\n",
       "      <td>'Tanjiro and his friends accompany the Hashira...</td>\n",
       "      <td>Explicit Violence</td>\n",
       "      <td>Demon Slayer: Kimetsu no Yaiba</td>\n",
       "      <td>Demon Slayer: Kimetsu no Yaiba, Demon Slayer: ...</td>\n",
       "      <td>Inosuke Hashibira : Yoshitsugu Matsuoka, Nezuk...</td>\n",
       "      <td>Koyoharu Gotouge : Original Creator, Haruo Sot...</td>\n",
       "    </tr>\n",
       "    <tr>\n",
       "      <th>1</th>\n",
       "      <td>2</td>\n",
       "      <td>Fruits Basket the Final Season</td>\n",
       "      <td>Fruits Basket the Final</td>\n",
       "      <td>TV</td>\n",
       "      <td>13.0</td>\n",
       "      <td>TMS Entertainment</td>\n",
       "      <td>Spring</td>\n",
       "      <td>Drama, Fantasy, Romance, Shoujo, Animal Transf...</td>\n",
       "      <td>4.60</td>\n",
       "      <td>2021.0</td>\n",
       "      <td>NaN</td>\n",
       "      <td>'The final arc of Fruits Basket.'</td>\n",
       "      <td>Emotional Abuse,, Mature Themes,, Physical Abu...</td>\n",
       "      <td>Fruits Basket, Fruits Basket Another</td>\n",
       "      <td>Fruits Basket 1st Season, Fruits Basket 2nd Se...</td>\n",
       "      <td>Akito Sohma : Maaya Sakamoto, Kyo Sohma : Yuum...</td>\n",
       "      <td>Natsuki Takaya : Original Creator, Yoshihide I...</td>\n",
       "    </tr>\n",
       "    <tr>\n",
       "      <th>2</th>\n",
       "      <td>3</td>\n",
       "      <td>Mo Dao Zu Shi 3</td>\n",
       "      <td>The Founder of Diabolism 3</td>\n",
       "      <td>Web</td>\n",
       "      <td>12.0</td>\n",
       "      <td>B.C MAY PICTURES</td>\n",
       "      <td>NaN</td>\n",
       "      <td>Fantasy, Ancient China, Chinese Animation, Cul...</td>\n",
       "      <td>4.58</td>\n",
       "      <td>2021.0</td>\n",
       "      <td>NaN</td>\n",
       "      <td>'The third season of Mo Dao Zu Shi.'</td>\n",
       "      <td>NaN</td>\n",
       "      <td>Grandmaster of Demonic Cultivation: Mo Dao Zu ...</td>\n",
       "      <td>Mo Dao Zu Shi 2, Mo Dao Zu Shi Q</td>\n",
       "      <td>Lan Wangji, Wei Wuxian, Jiang Cheng, Jin Guang...</td>\n",
       "      <td>Mo Xiang Tong Xiu : Original Creator, Xiong Ke...</td>\n",
       "    </tr>\n",
       "    <tr>\n",
       "      <th>3</th>\n",
       "      <td>4</td>\n",
       "      <td>Fullmetal Alchemist: Brotherhood</td>\n",
       "      <td>Hagane no Renkinjutsushi: Full Metal Alchemist</td>\n",
       "      <td>TV</td>\n",
       "      <td>64.0</td>\n",
       "      <td>Bones</td>\n",
       "      <td>Spring</td>\n",
       "      <td>Action, Adventure, Drama, Fantasy, Mystery, Sh...</td>\n",
       "      <td>4.58</td>\n",
       "      <td>2009.0</td>\n",
       "      <td>2010.0</td>\n",
       "      <td>\"The foundation of alchemy is based on the law...</td>\n",
       "      <td>Animal Abuse,, Mature Themes,, Violence,, Dome...</td>\n",
       "      <td>Fullmetal Alchemist, Fullmetal Alchemist (Ligh...</td>\n",
       "      <td>Fullmetal Alchemist: Brotherhood Specials, Ful...</td>\n",
       "      <td>Alphonse Elric : Rie Kugimiya, Edward Elric : ...</td>\n",
       "      <td>Hiromu Arakawa : Original Creator, Yasuhiro Ir...</td>\n",
       "    </tr>\n",
       "    <tr>\n",
       "      <th>4</th>\n",
       "      <td>5</td>\n",
       "      <td>Attack on Titan 3rd Season: Part II</td>\n",
       "      <td>Shingeki no Kyojin Season 3: Part II</td>\n",
       "      <td>TV</td>\n",
       "      <td>10.0</td>\n",
       "      <td>WIT Studio</td>\n",
       "      <td>Spring</td>\n",
       "      <td>Action, Fantasy, Horror, Shounen, Dark Fantasy...</td>\n",
       "      <td>4.57</td>\n",
       "      <td>2019.0</td>\n",
       "      <td>NaN</td>\n",
       "      <td>'The battle to retake Wall Maria begins now! W...</td>\n",
       "      <td>Cannibalism,, Explicit Violence</td>\n",
       "      <td>Attack on Titan, Attack on Titan: End of the W...</td>\n",
       "      <td>Attack on Titan, Attack on Titan 2nd Season, A...</td>\n",
       "      <td>Armin Arlelt : Marina Inoue, Eren Jaeger : Yuu...</td>\n",
       "      <td>Hajime Isayama : Original Creator, Tetsurou Ar...</td>\n",
       "    </tr>\n",
       "  </tbody>\n",
       "</table>\n",
       "</div>"
      ],
      "text/plain": [
       "   Rank                                               Name  \\\n",
       "0     1  Demon Slayer: Kimetsu no Yaiba - Entertainment...   \n",
       "1     2                     Fruits Basket the Final Season   \n",
       "2     3                                    Mo Dao Zu Shi 3   \n",
       "3     4                   Fullmetal Alchemist: Brotherhood   \n",
       "4     5                Attack on Titan 3rd Season: Part II   \n",
       "\n",
       "                                     Japanese_name   Type  Episodes  \\\n",
       "0                    Kimetsu no Yaiba: Yuukaku-hen  TV          NaN   \n",
       "1                          Fruits Basket the Final  TV         13.0   \n",
       "2                       The Founder of Diabolism 3  Web        12.0   \n",
       "3   Hagane no Renkinjutsushi: Full Metal Alchemist  TV         64.0   \n",
       "4             Shingeki no Kyojin Season 3: Part II  TV         10.0   \n",
       "\n",
       "              Studio Release_season  \\\n",
       "0           ufotable          Fall    \n",
       "1  TMS Entertainment         Spring   \n",
       "2   B.C MAY PICTURES            NaN   \n",
       "3              Bones         Spring   \n",
       "4         WIT Studio         Spring   \n",
       "\n",
       "                                                Tags  Rating  Release_year  \\\n",
       "0  Action, Adventure, Fantasy, Shounen, Demons, H...    4.60        2021.0   \n",
       "1  Drama, Fantasy, Romance, Shoujo, Animal Transf...    4.60        2021.0   \n",
       "2  Fantasy, Ancient China, Chinese Animation, Cul...    4.58        2021.0   \n",
       "3  Action, Adventure, Drama, Fantasy, Mystery, Sh...    4.58        2009.0   \n",
       "4  Action, Fantasy, Horror, Shounen, Dark Fantasy...    4.57        2019.0   \n",
       "\n",
       "   End_year                                        Description  \\\n",
       "0       NaN  'Tanjiro and his friends accompany the Hashira...   \n",
       "1       NaN                  'The final arc of Fruits Basket.'   \n",
       "2       NaN               'The third season of Mo Dao Zu Shi.'   \n",
       "3    2010.0  \"The foundation of alchemy is based on the law...   \n",
       "4       NaN  'The battle to retake Wall Maria begins now! W...   \n",
       "\n",
       "                                     Content_Warning  \\\n",
       "0                                  Explicit Violence   \n",
       "1  Emotional Abuse,, Mature Themes,, Physical Abu...   \n",
       "2                                                NaN   \n",
       "3  Animal Abuse,, Mature Themes,, Violence,, Dome...   \n",
       "4                    Cannibalism,, Explicit Violence   \n",
       "\n",
       "                                       Related_Mange  \\\n",
       "0                     Demon Slayer: Kimetsu no Yaiba   \n",
       "1               Fruits Basket, Fruits Basket Another   \n",
       "2  Grandmaster of Demonic Cultivation: Mo Dao Zu ...   \n",
       "3  Fullmetal Alchemist, Fullmetal Alchemist (Ligh...   \n",
       "4  Attack on Titan, Attack on Titan: End of the W...   \n",
       "\n",
       "                                       Related_anime  \\\n",
       "0  Demon Slayer: Kimetsu no Yaiba, Demon Slayer: ...   \n",
       "1  Fruits Basket 1st Season, Fruits Basket 2nd Se...   \n",
       "2                   Mo Dao Zu Shi 2, Mo Dao Zu Shi Q   \n",
       "3  Fullmetal Alchemist: Brotherhood Specials, Ful...   \n",
       "4  Attack on Titan, Attack on Titan 2nd Season, A...   \n",
       "\n",
       "                                        Voice_actors  \\\n",
       "0  Inosuke Hashibira : Yoshitsugu Matsuoka, Nezuk...   \n",
       "1  Akito Sohma : Maaya Sakamoto, Kyo Sohma : Yuum...   \n",
       "2  Lan Wangji, Wei Wuxian, Jiang Cheng, Jin Guang...   \n",
       "3  Alphonse Elric : Rie Kugimiya, Edward Elric : ...   \n",
       "4  Armin Arlelt : Marina Inoue, Eren Jaeger : Yuu...   \n",
       "\n",
       "                                               staff  \n",
       "0  Koyoharu Gotouge : Original Creator, Haruo Sot...  \n",
       "1  Natsuki Takaya : Original Creator, Yoshihide I...  \n",
       "2  Mo Xiang Tong Xiu : Original Creator, Xiong Ke...  \n",
       "3  Hiromu Arakawa : Original Creator, Yasuhiro Ir...  \n",
       "4  Hajime Isayama : Original Creator, Tetsurou Ar...  "
      ]
     },
     "execution_count": 32,
     "metadata": {},
     "output_type": "execute_result"
    }
   ],
   "source": [
    "animes.head()"
   ]
  },
  {
   "cell_type": "code",
   "execution_count": 33,
   "metadata": {},
   "outputs": [],
   "source": [
    "col = ['Rank','Name','Tags','Rating']\n",
    "animes = animes[col]"
   ]
  },
  {
   "cell_type": "code",
   "execution_count": 34,
   "metadata": {},
   "outputs": [
    {
     "data": {
      "text/plain": [
       "'Action, Adventure, Fantasy, Shounen, Demons, Historical, Martial Arts, Orphans, Siblings, Swordplay, Based on a Manga, Explicit Violence'"
      ]
     },
     "execution_count": 34,
     "metadata": {},
     "output_type": "execute_result"
    }
   ],
   "source": [
    "animes['Tags'][0]"
   ]
  },
  {
   "cell_type": "code",
   "execution_count": 44,
   "metadata": {},
   "outputs": [],
   "source": [
    "def clean_tags(tags):\n",
    "    if pd.isna(tags):\n",
    "        return tags\n",
    "    # Split the tags, remove spaces within each tag, and join them back together\n",
    "    return ', '.join(tag.replace(' ', '') for tag in tags.split(', '))\n"
   ]
  },
  {
   "cell_type": "code",
   "execution_count": 45,
   "metadata": {},
   "outputs": [],
   "source": [
    "animes['Tags'] = animes['Tags'].apply(clean_tags)"
   ]
  },
  {
   "cell_type": "code",
   "execution_count": 48,
   "metadata": {},
   "outputs": [],
   "source": [
    "animes['Tags'] = animes['Tags'].apply(lambda x: x.lower() if isinstance(x, str) else x)"
   ]
  },
  {
   "cell_type": "code",
   "execution_count": 49,
   "metadata": {},
   "outputs": [
    {
     "data": {
      "text/plain": [
       "'action, adventure, fantasy, shounen, demons, historical, martialarts, orphans, siblings, swordplay, basedonamanga, explicitviolence'"
      ]
     },
     "execution_count": 49,
     "metadata": {},
     "output_type": "execute_result"
    }
   ],
   "source": [
    "animes['Tags'][0]"
   ]
  },
  {
   "cell_type": "code",
   "execution_count": 50,
   "metadata": {},
   "outputs": [],
   "source": [
    "import nltk\n",
    "from nltk.stem.porter import PorterStemmer\n",
    "ps = PorterStemmer()"
   ]
  },
  {
   "cell_type": "code",
   "execution_count": 54,
   "metadata": {},
   "outputs": [],
   "source": [
    "def stem(tags):\n",
    "    if pd.isna(tags):\n",
    "        return tags\n",
    "    # Split the tags, stem each word, and join them back together\n",
    "    return ', '.join(ps.stem(tag) for tag in tags.split(', '))"
   ]
  },
  {
   "cell_type": "code",
   "execution_count": 55,
   "metadata": {},
   "outputs": [],
   "source": [
    "animes['Tags'] = animes['Tags'].apply(stem )"
   ]
  },
  {
   "cell_type": "code",
   "execution_count": 56,
   "metadata": {},
   "outputs": [
    {
     "data": {
      "text/plain": [
       "'action, adventur, fantasi, shounen, demon, histor, martialart, orphan, sibl, swordplay, basedonamanga, explicitviol'"
      ]
     },
     "execution_count": 56,
     "metadata": {},
     "output_type": "execute_result"
    }
   ],
   "source": [
    "animes['Tags'][0]"
   ]
  },
  {
   "cell_type": "code",
   "execution_count": 63,
   "metadata": {},
   "outputs": [],
   "source": [
    "animes['Tags'] = animes['Tags'].fillna('')"
   ]
  },
  {
   "cell_type": "code",
   "execution_count": 94,
   "metadata": {},
   "outputs": [],
   "source": [
    "from sklearn.feature_extraction.text import CountVectorizer\n",
    "cv = CountVectorizer(max_features=7000,stop_words='english')"
   ]
  },
  {
   "cell_type": "code",
   "execution_count": 95,
   "metadata": {},
   "outputs": [],
   "source": [
    "vectors = cv.fit_transform(animes['Tags']).toarray()"
   ]
  },
  {
   "cell_type": "code",
   "execution_count": 96,
   "metadata": {},
   "outputs": [
    {
     "data": {
      "text/plain": [
       "array([0, 0, 0, 0, 0, 0, 0, 1, 0, 0, 1, 0, 0, 0, 0, 0, 0, 0, 0, 0, 0, 0,\n",
       "       0, 0, 0, 0, 0, 0, 0, 0, 0, 0, 0, 0, 0, 0, 0, 0, 0, 0, 0, 0, 0, 0,\n",
       "       0, 0, 0, 0, 0, 0, 0, 0, 0, 0, 0, 0, 0, 0, 0, 0, 0, 0, 0, 0, 0, 1,\n",
       "       0, 0, 0, 0, 0, 0, 0, 0, 0, 0, 0, 0, 0, 0, 0, 0, 0, 0, 0, 0, 0, 0,\n",
       "       0, 0, 0, 0, 0, 0, 0, 0, 0, 0, 0, 0, 0, 0, 0, 0, 0, 0, 0, 0, 0, 0,\n",
       "       0, 0, 0, 0, 0, 0, 0, 0, 0, 0, 0, 0, 0, 0, 0, 0, 0, 0, 0, 0, 0, 0,\n",
       "       0, 0, 0, 0, 0, 0, 0, 0, 0, 0, 0, 0, 0, 0, 0, 0, 0, 0, 0, 0, 0, 0,\n",
       "       0, 0, 0, 0, 0, 0, 0, 0, 1, 0, 0, 0, 0, 0, 0, 0, 0, 0, 0, 0, 0, 0,\n",
       "       0, 0, 0, 0, 0, 0, 0, 0, 0, 0, 0, 0, 0, 0, 0, 0, 0, 0, 0, 0, 0, 0,\n",
       "       0, 0, 0, 0, 0, 1, 0, 0, 0, 0, 1, 0, 0, 0, 0, 0, 0, 0, 0, 0, 0, 0,\n",
       "       0, 0, 0, 0, 0, 0, 0, 0, 0, 0, 0, 0, 0, 0, 0, 0, 0, 0, 0, 0, 0, 0,\n",
       "       0, 0, 0, 0, 0, 0, 0, 0, 0, 0, 0, 0, 0, 0, 0, 0, 1, 0, 0, 0, 0, 0,\n",
       "       0, 0, 0, 0, 0, 0, 0, 0, 0, 0, 0, 0, 0, 0, 0, 0, 0, 0, 0, 0, 0, 0,\n",
       "       0, 0, 0, 0, 0, 0, 0, 0, 0, 0, 0, 0, 0, 0, 0, 0, 0, 0, 0, 0, 0, 0,\n",
       "       0, 0, 0, 0, 0, 0, 1, 0, 0, 0, 0, 0, 0, 0, 0, 0, 0, 0, 0, 0, 0, 0,\n",
       "       0, 0, 0, 0, 0, 0, 0, 0, 0, 0, 0, 0, 0, 0, 0, 0, 0, 0, 0, 0, 0, 0,\n",
       "       0, 0, 0, 0, 0, 0, 0, 0, 0, 0, 0, 0, 0, 0, 0, 1, 0, 0, 0, 0, 0, 0,\n",
       "       0, 0, 0, 0, 0, 0, 0, 0, 0, 0, 0, 0, 0, 0, 0, 0, 0, 0, 0, 0, 0, 0,\n",
       "       0, 0, 0, 0, 0, 0, 0, 0, 0, 0, 0, 0, 0, 0, 0, 0, 0, 0, 0, 0, 0, 0,\n",
       "       0, 0, 0, 0, 0, 0, 0, 0, 0, 0, 0, 0, 0, 0, 0, 0, 0, 0, 0, 0, 0, 0,\n",
       "       0, 0, 0, 0, 0, 0, 0, 0, 0, 0, 0, 0, 0, 0, 0, 0, 0, 0, 0, 0, 0, 0,\n",
       "       0, 1, 0, 1, 0, 0, 0, 0, 0, 0, 0, 0, 0, 0, 0, 0, 0, 0, 0, 0, 0, 0,\n",
       "       0, 0, 0, 0, 0, 0, 0, 0, 0, 0, 0, 0, 0, 0, 0, 0, 0, 0, 1, 0, 0, 0,\n",
       "       0, 0, 0, 0, 0, 0, 0, 0, 0, 0, 0, 0, 0, 0, 0, 0, 0, 0, 0, 0, 0, 0,\n",
       "       0, 0, 0, 0, 0, 0, 0, 0, 0, 0, 0, 0, 0, 0, 0, 0, 0, 0, 0, 0, 0, 0,\n",
       "       0, 0, 0, 0, 0, 0, 0, 0, 0, 0], dtype=int64)"
      ]
     },
     "execution_count": 96,
     "metadata": {},
     "output_type": "execute_result"
    }
   ],
   "source": [
    "vectors[0]"
   ]
  },
  {
   "cell_type": "code",
   "execution_count": 97,
   "metadata": {},
   "outputs": [
    {
     "data": {
      "text/plain": [
       "array(['15thcenturi', '16thcenturi', '17thcenturi', '18thcenturi',\n",
       "       '19thcenturi', 'abstract', 'act', 'action', 'adultcoupl',\n",
       "       'adultindustri', 'adventur', 'africa', 'afterlif', 'age', 'agegap',\n",
       "       'agetransform', 'agricultur', 'ai', 'alcohol', 'aliceinwonderland',\n",
       "       'alien', 'america', 'amnesia', 'amusementpark', 'ancientchina',\n",
       "       'android', 'androphobia', 'angel', 'anim', 'animalabuse',\n",
       "       'animalcharacterist', 'animalprotagonist', 'animaltransform',\n",
       "       'animebancho', 'animeindustri', 'animenochikara', 'animenom',\n",
       "       'animetamago', 'anthropomorph', 'apartmentlif', 'apocalyps',\n",
       "       'apocalypt', 'apprenticeship', 'archeri', 'arrangedmarriag', 'art',\n",
       "       'artschool', 'assassin', 'astronaut', 'astronomi', 'australia',\n",
       "       'autobiographi', 'aviat', 'badminton', 'bake', 'balletdanc', 'bar',\n",
       "       'basebal', 'basedona4', 'basedonacardgam', 'basedonacartoon',\n",
       "       'basedonacomicbook', 'basedonadoujinshi', 'basedonafairytal',\n",
       "       'basedonalightnovel', 'basedonamanga', 'basedonamobilegam',\n",
       "       'basedonamovi', 'basedonanerog', 'basedonanotomegam',\n",
       "       'basedonanovel', 'basedonapicturebook', 'basedonaplay',\n",
       "       'basedonareligioustext', 'basedonasong', 'basedonatvseri',\n",
       "       'basedonavideogam', 'basedonavisualnovel', 'basedonawebnovel',\n",
       "       'basedonawebtoon', 'basketbal', 'battleroyal', 'bdsm', 'bear',\n",
       "       'betray', 'billiard', 'biographi', 'bird', 'bl', 'blackandwhit',\n",
       "       'blackmail', 'boardgam', 'boardinghous', 'boardingschool',\n",
       "       'bodyguard', 'bodyshar', 'bodyswap', 'bookstor', 'borderlineh',\n",
       "       'boss', 'bountyhunt', 'box', 'boysschool', 'breakingthefourthwal',\n",
       "       'brothercomplex', 'buddhism', 'bulli', 'bullying', 'butler',\n",
       "       'cafe', 'canada', 'cannib', 'cannibalism', 'car', 'cardbattl',\n",
       "       'cat', 'centaur', 'ceo', 'cganim', 'cheat', 'chibi', 'childcar',\n",
       "       'childhoodfriend', 'childhoodpromis', 'chineseanim', 'christian',\n",
       "       'christma', 'circu', 'classicalmus', 'codepend', 'cohabit',\n",
       "       'collect', 'colleg', 'combiningmecha', 'comedi', 'comingofag',\n",
       "       'commerci', 'conspiraci', 'contemporaryfantasi', 'conveniencestor',\n",
       "       'cook', 'countrysid', 'cowork', 'crime', 'crimin', 'crossdress',\n",
       "       'crossedlov', 'crossov', 'crude', 'culinaryschool', 'cultiv',\n",
       "       'curs', 'cyberpunk', 'cyborg', 'cycl', 'danc', 'darkcomedi',\n",
       "       'darkfantasi', 'dealwiththedevil', 'deathofalovedon', 'debt',\n",
       "       'delinqu', 'demon', 'demonk', 'desert', 'detect', 'dinosaur',\n",
       "       'disabl', 'disney', 'divorc', 'doctor', 'dodgebal', 'dog',\n",
       "       'domesticabus', 'domesticabuse', 'doujinshiindustri', 'dragon',\n",
       "       'dragonquest', 'drama', 'dreamworld', 'druguse', 'dungeon',\n",
       "       'dysfunctionalfamili', 'dystopia', 'earthquak', 'ecchi', 'econom',\n",
       "       'editor', 'edschool', 'educ', 'egyptianmytholog', 'elementalpow',\n",
       "       'elv', 'emotionalabus', 'emotionalabuse', 'employeerelationship',\n",
       "       'england', 'environment', 'episod', 'espionag', 'europ',\n",
       "       'exorcist', 'explicitsex', 'explicitviol', 'explicitviolence',\n",
       "       'fakerom', 'familyfriendli', 'familylif', 'fantasi', 'fashion',\n",
       "       'fatedlov', 'fetish', 'feudaljapan', 'finland', 'firefight',\n",
       "       'fish', 'flashanim', 'foodandbeverag', 'foodprotagonist',\n",
       "       'footbal', 'forest', 'framedforacrim', 'franc', 'frenchrevolut',\n",
       "       'frog', 'fudanshi', 'fujoshi', 'ga', 'gag', 'gambl', 'gang',\n",
       "       'genderbend', 'geni', 'germani', 'ghiblimuseumshort', 'ghost',\n",
       "       'ghosthunt', 'girlsschool', 'gl', 'god', 'golf', 'greec',\n",
       "       'greekmytholog', 'guild', 'gun', 'gyaru', 'gymnast', 'gynophobia',\n",
       "       'hack', 'hamster', 'handtohandcombat', 'happysci', 'harem', 'harm',\n",
       "       'heaven', 'hell', 'henshinhero', 'highstakesgam', 'histor',\n",
       "       'horror', 'host', 'hotelsandinn', 'humanexperiment',\n",
       "       'humanprotagonist', 'humanrelationship', 'icesk', 'idol', 'ill',\n",
       "       'imperson', 'incest', 'india', 'inherit', 'insect',\n",
       "       'interspeciesrelationship', 'isekai', 'island', 'isolatedsocieti',\n",
       "       'itali', 'iyashikei', 'japananimator',\n",
       "       'japaneseanimeclassiccollect', 'japanesemytholog', 'josei',\n",
       "       'journal', 'journeytothewest', 'jungl', 'kaijuu', 'kendo',\n",
       "       'kickbox', 'kidnap', 'kingdombuild', 'koala', 'komamanga',\n",
       "       'koreananim', 'kouhairelationship', 'landlord', 'lawyer',\n",
       "       'leijivers', 'lgbttheme', 'librari', 'lifestylechang', 'loneli',\n",
       "       'loveconfess', 'lovetriangl', 'mafia', 'magic', 'magicalgirl',\n",
       "       'magicschool', 'mahjong', 'maid', 'manag', 'mangaindustri',\n",
       "       'mansion', 'marriedlif', 'martialart', 'martialartsschool',\n",
       "       'marvelcom', 'master', 'maturerom', 'maturethem', 'maturethemes',\n",
       "       'mecha', 'medic', 'mediev', 'melancholi', 'mentalil', 'mercenari',\n",
       "       'mermaid', 'middleeastern', 'militari', 'militaryschool',\n",
       "       'mindgam', 'minnanouta', 'mmorpg', 'model', 'modernknowledg',\n",
       "       'monster', 'monstergirl', 'monsterschool', 'motorcycl',\n",
       "       'mountainclimb', 'music', 'musicschool', 'mysteri',\n",
       "       'mysteriousbenefactor', 'mysteriousshop', 'naturaldisast', 'neet',\n",
       "       'neighbor', 'newlyco', 'nim', 'ninja', 'nobil', 'nodialogu',\n",
       "       'noir', 'noitamina', 'non', 'norsemytholog', 'novelindustri',\n",
       "       'nuditi', 'nudity', 'nurs', 'obsessivelov', 'ocean', 'openinganim',\n",
       "       'oppositesattract', 'originalwork', 'orphan', 'otakucultur',\n",
       "       'outerspac', 'outsideworld', 'overpoweredmaincharact', 'panda',\n",
       "       'pandem', 'pantyshot', 'parodi', 'penguin',\n",
       "       'personinastrangeworld', 'pet', 'photographi', 'physicalabus',\n",
       "       'physicalabuse', 'picturedrama', 'pig', 'pingpong', 'pirat',\n",
       "       'playboy', 'playordi', 'polic', 'polit', 'possessivelov', 'post',\n",
       "       'pov', 'poverti', 'powersuit', 'pregnanc', 'prehistor', 'prison',\n",
       "       'promot', 'propheci', 'prostitut', 'prostitution', 'proxybattl',\n",
       "       'psychicpow', 'psycholog', 'psychopath', 'pve', 'pvp', 'rabbit',\n",
       "       'race', 'rakugo', 'realrobot', 'rebellion', 'recap', 'recip',\n",
       "       'reincarn', 'religion', 'remarriag', 'restaur', 'reveng',\n",
       "       'reverseharem', 'reverseisekai', 'rivalri', 'robot', 'rockmus',\n",
       "       'romanc', 'romanceofthethreekingdom', 'romanticcomedi', 'roommat',\n",
       "       'royalti', 'rpg', 'rugbi', 'run', 'russia', 'salaryman', 'samurai',\n",
       "       'san', 'sanriocharact', 'satir', 'schoolclub', 'schoollif',\n",
       "       'scifi', 'scubadiv', 'sday', 'secretident', 'seinen', 'self',\n",
       "       'senpai', 'sentai', 'sentientmecha', 'serialkil',\n",
       "       'servantrelationship', 'sexhibit', 'sexualabus', 'sexualabuse',\n",
       "       'sexualcont', 'sexualcontent', 'sherlockholm', 'shinigami', 'ship',\n",
       "       'short', 'shortepisod', 'shoujo', 'shounen', 'showbiz', 'sibl',\n",
       "       'singlepar', 'sistercomplex', 'skeleton', 'slapstick',\n",
       "       'sliceoflif', 'slime', 'slowlif', 'smut', 'soccer', 'socialgap',\n",
       "       'socialmedia', 'spaceopera', 'spacepir', 'splitperson', 'sport',\n",
       "       'stalker', 'star', 'stationidentif', 'steampunk',\n",
       "       'stockholmsyndrom', 'stopmotionanim', 'student', 'studentcouncil',\n",
       "       'submarin', 'suddengirlfriendappear', 'suicid', 'suicide',\n",
       "       'summonedintoanotherworld', 'sumowrestl', 'superhero',\n",
       "       'supernatur', 'superpow', 'superrobot', 'surviv', 'swim',\n",
       "       'switzerland', 'swordplay', 'teach', 'teacherrelationship',\n",
       "       'tenni', 'terror', 'thegreatoutdoor', 'thiev', 'thriller',\n",
       "       'timetravel', 'tokusatsu', 'tourism', 'tournament',\n",
       "       'trackandfield', 'train', 'transferstud', 'transformingmecha',\n",
       "       'trappedinavideogam', 'treasurehunt', 'tsunder', 'tutor',\n",
       "       'unicorn', 'unrequitedlov', 'urbanfantasi', 'urbanlegend',\n",
       "       'valentine', 'vampir', 'videogameindustri', 'vigilant', 'villai',\n",
       "       'violenc', 'violence', 'virtualr', 'vocaloid', 'voiceact',\n",
       "       'volleybal', 'voyeur', 'vtuber', 'war', 'weaktostrong', 'week',\n",
       "       'werewolv', 'western', 'witch', 'worklif', 'worldmasterpiecetheat',\n",
       "       'worldwar2', 'wrestl', 'writer', 'wuxia', 'xcharact', 'xianxia',\n",
       "       'yakuza', 'yaoi', 'yaoihandsyndrom', 'youkai', 'yuri', 'zombi',\n",
       "       'zoo'], dtype=object)"
      ]
     },
     "execution_count": 97,
     "metadata": {},
     "output_type": "execute_result"
    }
   ],
   "source": [
    "cv.get_feature_names_out()"
   ]
  },
  {
   "cell_type": "code",
   "execution_count": 98,
   "metadata": {},
   "outputs": [],
   "source": [
    "from sklearn.metrics.pairwise import cosine_similarity"
   ]
  },
  {
   "cell_type": "code",
   "execution_count": 99,
   "metadata": {},
   "outputs": [],
   "source": [
    "similarity = cosine_similarity(vectors)"
   ]
  },
  {
   "cell_type": "code",
   "execution_count": 100,
   "metadata": {},
   "outputs": [
    {
     "data": {
      "text/plain": [
       "[(12, 0.8198915917499229),\n",
       " (8, 0.7453559924999299),\n",
       " (47, 0.6943650748294137),\n",
       " (8324, 0.6735753140545635),\n",
       " (3061, 0.6546536707079772)]"
      ]
     },
     "execution_count": 100,
     "metadata": {},
     "output_type": "execute_result"
    }
   ],
   "source": [
    "sorted(list(enumerate(similarity[0])),reverse=True,key=lambda x:x[1])[1:6]"
   ]
  },
  {
   "cell_type": "code",
   "execution_count": 101,
   "metadata": {},
   "outputs": [],
   "source": [
    "\n",
    "def recommend(anime):\n",
    "    anime_index = animes[animes['Name'] == anime].index[0]\n",
    "    distances = similarity[anime_index]  # Access the similarity scores for the movie index\n",
    "    anime_list = sorted(list(enumerate(distances)), reverse=True, key=lambda x: x[1])[1:10]\n",
    "    for i in anime_list:\n",
    "        print(animes.iloc[i[0]].Name)"
   ]
  },
  {
   "cell_type": "code",
   "execution_count": 105,
   "metadata": {},
   "outputs": [
    {
     "name": "stdout",
     "output_type": "stream",
     "text": [
      "The Disastrous Life of Saiki K. 2nd Season\n",
      "The Disastrous Life of Saiki K. 3\n",
      "The Disastrous Life of Saiki K. - Reawakened\n",
      "The Disastrous Life of Saiki K. (2013)\n",
      "Daily Lives of High School Boys Specials\n",
      "Sexy Commando Gaiden Sugoiyo!! Masaru-san\n",
      "Daily Lives of High School Boys\n",
      "Mob Psycho 100 II: The First Spirits and Such Company Trip - A Journey that Mends the Heart and Heals the Soul\n",
      "Sket Dance\n"
     ]
    }
   ],
   "source": [
    "recommend('The Disastrous Life of Saiki K.')"
   ]
  },
  {
   "cell_type": "code",
   "execution_count": null,
   "metadata": {},
   "outputs": [],
   "source": []
  }
 ],
 "metadata": {
  "kernelspec": {
   "display_name": "Python 3",
   "language": "python",
   "name": "python3"
  },
  "language_info": {
   "codemirror_mode": {
    "name": "ipython",
    "version": 3
   },
   "file_extension": ".py",
   "mimetype": "text/x-python",
   "name": "python",
   "nbconvert_exporter": "python",
   "pygments_lexer": "ipython3",
   "version": "3.12.2"
  }
 },
 "nbformat": 4,
 "nbformat_minor": 2
}
